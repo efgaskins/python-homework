{
 "cells": [
  {
   "cell_type": "code",
   "execution_count": 1,
   "metadata": {},
   "outputs": [
    {
     "name": "stdout",
     "output_type": "stream",
     "text": [
      " Volume in drive C is Windows-SSD\n",
      " Volume Serial Number is 9A35-F1B7\n",
      "\n",
      " Directory of C:\\Users\\efgas\\Desktop\\Fintech\\uw-bel-fin-pt-08-2020-u-c\\graded_homework\\02-Python\\Instructions\\PyRamen\\Resources\n",
      "\n",
      "08/29/2020  10:48 AM    <DIR>          .\n",
      "08/29/2020  10:48 AM    <DIR>          ..\n",
      "08/29/2020  10:48 AM    <DIR>          .ipynb_checkpoints\n",
      "08/21/2020  11:11 PM             4,132 menu_data.csv\n",
      "08/21/2020  11:11 PM         4,306,311 sales_data.csv\n",
      "08/29/2020  10:48 AM                72 Untitled.ipynb\n",
      "               3 File(s)      4,310,515 bytes\n",
      "               3 Dir(s)  359,817,277,440 bytes free\n"
     ]
    }
   ],
   "source": [
    "ls"
   ]
  },
  {
   "cell_type": "code",
   "execution_count": 2,
   "metadata": {},
   "outputs": [],
   "source": [
    "import csv\n",
    "from pathlib import Path"
   ]
  },
  {
   "cell_type": "code",
   "execution_count": 3,
   "metadata": {},
   "outputs": [],
   "source": [
    "menu_filepath = Path(\"..\", \"Resources\", \"menu_data.csv\")\n",
    "sales_filepath = Path(\"..\", \"Resources\", \"sales_data.csv\")"
   ]
  },
  {
   "cell_type": "code",
   "execution_count": 4,
   "metadata": {},
   "outputs": [],
   "source": [
    "menu = []\n",
    "sales = []"
   ]
  },
  {
   "cell_type": "code",
   "execution_count": 5,
   "metadata": {},
   "outputs": [],
   "source": [
    "with open(menu_filepath) as menu_file:\n",
    "    for row in menu_file:\n",
    "        menu.append(row)"
   ]
  },
  {
   "cell_type": "code",
   "execution_count": 6,
   "metadata": {},
   "outputs": [],
   "source": [
    "with open(sales_filepath) as sales_file:\n",
    "    for row in sales_file:\n",
    "        sales.append(row)"
   ]
  },
  {
   "cell_type": "code",
   "execution_count": null,
   "metadata": {},
   "outputs": [],
   "source": [
    "for sales_row in sales:\n",
    "    sales_item = sales_row[4]\n",
    "    quantity = sales_row[3]\n",
    "    if sales_item \n",
    "    \n",
    "    "
   ]
  }
 ],
 "metadata": {
  "kernelspec": {
   "display_name": "Python 3",
   "language": "python",
   "name": "python3"
  },
  "language_info": {
   "codemirror_mode": {
    "name": "ipython",
    "version": 3
   },
   "file_extension": ".py",
   "mimetype": "text/x-python",
   "name": "python",
   "nbconvert_exporter": "python",
   "pygments_lexer": "ipython3",
   "version": "3.7.6"
  }
 },
 "nbformat": 4,
 "nbformat_minor": 4
}
