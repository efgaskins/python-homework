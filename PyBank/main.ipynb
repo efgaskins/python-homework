{
 "cells": [
  {
   "cell_type": "code",
   "execution_count": 1,
   "metadata": {},
   "outputs": [],
   "source": [
    "import os\n",
    "import csv"
   ]
  },
  {
   "cell_type": "code",
   "execution_count": 2,
   "metadata": {},
   "outputs": [],
   "source": [
    "PyBankcsv = os.path.join(\"..\", \"Resources\", \"budget_data.csv\")"
   ]
  },
  {
   "cell_type": "code",
   "execution_count": 3,
   "metadata": {},
   "outputs": [],
   "source": [
    "profit = []\n",
    "monthly_changes = []\n",
    "date = []"
   ]
  },
  {
   "cell_type": "code",
   "execution_count": 4,
   "metadata": {},
   "outputs": [],
   "source": [
    "count = 0\n",
    "total_profit = 0\n",
    "total_change_profits = 0\n",
    "initial_profit = 0"
   ]
  },
  {
   "cell_type": "code",
   "execution_count": 5,
   "metadata": {},
   "outputs": [
    {
     "name": "stdout",
     "output_type": "stream",
     "text": [
      "Financial Analysis\n",
      "----------------------------------------------------------\n",
      "Total Months: 86\n",
      "Total Profits: $38382578\n",
      "Average Change: $7803\n",
      "Greatest Increase in Profits: Feb-2012 ($1926159)\n",
      "Greatest Decrease in Profits: Sep-2013 ($-2196167)\n"
     ]
    }
   ],
   "source": [
    "with open(PyBankcsv, newline=\"\") as csvfile:\n",
    "    csvreader = csv.reader(csvfile, delimiter=\",\")\n",
    "    csv_header = next(csvreader)\n",
    "    for row in csvreader:\n",
    "        count = count + 1\n",
    "        \n",
    "        date.append(row[0])\n",
    "        \n",
    "        profit.append(row[1])\n",
    "        total_profit = total_profit + int(row[1])\n",
    "        \n",
    "        final_profit = int(row[1])\n",
    "        monthly_change_profits = final_profit - initial_profit\n",
    "        \n",
    "        monthly_changes.append(monthly_change_profits)\n",
    "\n",
    "        total_change_profits = total_change_profits + monthly_change_profits\n",
    "        initial_profit = final_profit\n",
    "        \n",
    "        average_change_profits = (total_change_profits/count)\n",
    "        \n",
    "        greatest_increase_profits = max(monthly_changes)\n",
    "        greatest_decrease_profits = min(monthly_changes)\n",
    "\n",
    "        increase_date = date[monthly_changes.index(greatest_increase_profits)]\n",
    "        decrease_date = date[monthly_changes.index(greatest_decrease_profits)]\n",
    "        \n",
    "    \n",
    "    print(\"Financial Analysis\")\n",
    "    print(\"----------------------------------------------------------\")\n",
    "    print(\"Total Months: \" + str(count))\n",
    "    print(\"Total Profits: \" + \"$\" + str(total_profit))\n",
    "    print(\"Average Change: \" + \"$\" + str(int(average_change_profits)))\n",
    "    print(\"Greatest Increase in Profits: \" + str(increase_date) + \" ($\" + str(greatest_increase_profits) + \")\")\n",
    "    print(\"Greatest Decrease in Profits: \" + str(decrease_date) + \" ($\" + str(greatest_decrease_profits)+ \")\")\n",
    "\n",
    "with open('financial_analysis.txt', 'w') as text:\n",
    "    text.write(\"  Financial Analysis\"+ \"\\n\")\n",
    "    text.write(\"----------------------------------------------------------\\n\\n\")\n",
    "    text.write(\"    Total Months: \" + str(count) + \"\\n\")\n",
    "    text.write(\"    Total Profits: \" + \"$\" + str(total_profit) +\"\\n\")\n",
    "    text.write(\"    Average Change: \" + '$' + str(int(average_change_profits)) + \"\\n\")\n",
    "    text.write(\"    Greatest Increase in Profits: \" + str(increase_date) + \" ($\" + str(greatest_increase_profits) + \")\\n\")\n",
    "    text.write(\"    Greatest Decrease in Profits: \" + str(decrease_date) + \" ($\" + str(greatest_decrease_profits) + \")\\n\")"
   ]
  },
  {
   "cell_type": "code",
   "execution_count": null,
   "metadata": {},
   "outputs": [],
   "source": []
  }
 ],
 "metadata": {
  "kernelspec": {
   "display_name": "Python 3",
   "language": "python",
   "name": "python3"
  },
  "language_info": {
   "codemirror_mode": {
    "name": "ipython",
    "version": 3
   },
   "file_extension": ".py",
   "mimetype": "text/x-python",
   "name": "python",
   "nbconvert_exporter": "python",
   "pygments_lexer": "ipython3",
   "version": "3.7.6"
  }
 },
 "nbformat": 4,
 "nbformat_minor": 4
}
